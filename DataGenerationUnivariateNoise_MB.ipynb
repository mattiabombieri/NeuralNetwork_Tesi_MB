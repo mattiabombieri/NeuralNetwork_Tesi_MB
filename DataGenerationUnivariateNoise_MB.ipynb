{
  "nbformat": 4,
  "nbformat_minor": 0,
  "metadata": {
    "colab": {
      "provenance": [],
      "authorship_tag": "ABX9TyOdVadQSeXnF+MUko3RmOEu",
      "include_colab_link": true
    },
    "kernelspec": {
      "name": "python3",
      "display_name": "Python 3"
    },
    "language_info": {
      "name": "python"
    }
  },
  "cells": [
    {
      "cell_type": "markdown",
      "metadata": {
        "id": "view-in-github",
        "colab_type": "text"
      },
      "source": [
        "<a href=\"https://colab.research.google.com/github/mattiabombieri/NeuralNetwork_Tesi_MB/blob/main/DataGenerationUnivariateNoise_MB.ipynb\" target=\"_parent\"><img src=\"https://colab.research.google.com/assets/colab-badge.svg\" alt=\"Open In Colab\"/></a>"
      ]
    },
    {
      "cell_type": "code",
      "execution_count": 1,
      "metadata": {
        "colab": {
          "base_uri": "https://localhost:8080/"
        },
        "id": "GzposzIdDeX8",
        "outputId": "f42c98b7-38ed-48c1-fb52-802a6439cad5"
      },
      "outputs": [
        {
          "output_type": "stream",
          "name": "stdout",
          "text": [
            "2.18.0\n"
          ]
        }
      ],
      "source": [
        "import tensorflow as tf\n",
        "print(tf.__version__)\n",
        "import numpy as np\n",
        "import math as mt\n",
        "import matplotlib.pyplot as plt"
      ]
    },
    {
      "cell_type": "code",
      "source": [
        "a1 = 45 * np.sqrt(5)\n",
        "a2 = 24 * np.sqrt(806115)\n",
        "a3 = 1560 * np.sqrt(49407661)\n",
        "\n",
        "def basis_fct(k, t):\n",
        "    if k == 1:\n",
        "        return 1 + 0 * t\n",
        "    if k == 2:\n",
        "        return -1 + np.exp(-t)\n",
        "    if k == 3:\n",
        "        return np.exp(-t) * t\n",
        "    if k == 4:\n",
        "        return (1/2) * (-2 * np.exp(-t) * t + np.exp(-t) * np.power(t, 2))\n",
        "    if k == 5:\n",
        "        return (-6 * np.exp(-t) * t - 36 * np.exp(-t) * np.power(t, 2) + np.exp(-t) * np.power(t, 3)) / a1\n",
        "    if k == 6:\n",
        "        return (-24 * np.exp(-t) * t - 192 * np.exp(-t) * np.power(t, 2) - 1440 * np.exp(-t) * np.power(t, 3) + np.exp(-t) * np.power(t, 4)) / a2\n",
        "    if k == 7:\n",
        "        return (-120 * np.exp(-t) * t - 1200 * np.exp(-t) * np.power(t, 2) - 10800 * np.exp(-t) * np.power(t, 3) + 100800 * np.exp(-t) * np.power(t, 4) + np.exp(-t) * np.power(t, 5)) / a3\n",
        "    else:\n",
        "        return 0"
      ],
      "metadata": {
        "id": "iOQ8_YOzEAVk"
      },
      "execution_count": 2,
      "outputs": []
    },
    {
      "cell_type": "code",
      "source": [
        "# Simulate one Brownian motionfrom 0 to T. We discretize daily\n",
        "T = 1/12 # one month simulation time horizon\n",
        "L = 30 # Discretization of BM\n",
        "s = np.arange(0.0, 1/12, 1/(12*L))\n",
        "Tminuss = T - s\n",
        "print(Tminuss)\n",
        "deltaS = 1 / (12*L)\n",
        "Ssize = s.size\n",
        "\n",
        "def evalCurve(x, BMInc, tau):\n",
        "    M = x.size\n",
        "    TauSize = tau.size\n",
        "    Y0 = np.zeros(TauSize)\n",
        "    drift = np.ones(TauSize)\n",
        "    drift *= -(1/2) * T\n",
        "    noise = np.ones(TauSize)\n",
        "    noise *= mt.sqrt(T) * BMInc\n",
        "    for k in range(0, M, 1):\n",
        "        Y0 += x[k] * basis_fct(k + 1, tau + T)\n",
        "        #tmp+=x[k]*np.power(t+T,k-1)*mt.exp(-(t+T))\n",
        "    return np.exp(drift + noise + Y0)"
      ],
      "metadata": {
        "colab": {
          "base_uri": "https://localhost:8080/"
        },
        "id": "ToSfY_pwEEmI",
        "outputId": "f25ab8e4-a5fa-486b-bf7d-312808678b13"
      },
      "execution_count": 3,
      "outputs": [
        {
          "output_type": "stream",
          "name": "stdout",
          "text": [
            "[0.08333333 0.08055556 0.07777778 0.075      0.07222222 0.06944444\n",
            " 0.06666667 0.06388889 0.06111111 0.05833333 0.05555556 0.05277778\n",
            " 0.05       0.04722222 0.04444444 0.04166667 0.03888889 0.03611111\n",
            " 0.03333333 0.03055556 0.02777778 0.025      0.02222222 0.01944444\n",
            " 0.01666667 0.01388889 0.01111111 0.00833333 0.00555556 0.00277778]\n"
          ]
        }
      ]
    },
    {
      "cell_type": "code",
      "source": [
        "import sys\n",
        "print(sys.version_info)\n",
        "!{sys.executable} -m pip install multiprocess"
      ],
      "metadata": {
        "colab": {
          "base_uri": "https://localhost:8080/"
        },
        "id": "kDJflYfnEdu-",
        "outputId": "b72b464c-fa69-4639-c03b-e810e14ec3af"
      },
      "execution_count": 4,
      "outputs": [
        {
          "output_type": "stream",
          "name": "stdout",
          "text": [
            "sys.version_info(major=3, minor=11, micro=11, releaselevel='final', serial=0)\n",
            "Collecting multiprocess\n",
            "  Downloading multiprocess-0.70.17-py311-none-any.whl.metadata (7.2 kB)\n",
            "Collecting dill>=0.3.9 (from multiprocess)\n",
            "  Downloading dill-0.3.9-py3-none-any.whl.metadata (10 kB)\n",
            "Downloading multiprocess-0.70.17-py311-none-any.whl (144 kB)\n",
            "\u001b[2K   \u001b[90m━━━━━━━━━━━━━━━━━━━━━━━━━━━━━━━━━━━━━━━━\u001b[0m \u001b[32m144.3/144.3 kB\u001b[0m \u001b[31m3.8 MB/s\u001b[0m eta \u001b[36m0:00:00\u001b[0m\n",
            "\u001b[?25hDownloading dill-0.3.9-py3-none-any.whl (119 kB)\n",
            "\u001b[2K   \u001b[90m━━━━━━━━━━━━━━━━━━━━━━━━━━━━━━━━━━━━━━━━\u001b[0m \u001b[32m119.4/119.4 kB\u001b[0m \u001b[31m10.0 MB/s\u001b[0m eta \u001b[36m0:00:00\u001b[0m\n",
            "\u001b[?25hInstalling collected packages: dill, multiprocess\n",
            "Successfully installed dill-0.3.9 multiprocess-0.70.17\n"
          ]
        }
      ]
    },
    {
      "cell_type": "code",
      "source": [
        "from numpy.random import SeedSequence, default_rng\n",
        "ss = SeedSequence(12345)\n",
        "\n",
        "# Spawn off 10 child SeedSequences to pass to child processes.\n",
        "child_seeds = ss.spawn(32)\n",
        "streams = [default_rng(s) for s in child_seeds]"
      ],
      "metadata": {
        "id": "uB02xgJAEmeV"
      },
      "execution_count": 5,
      "outputs": []
    },
    {
      "cell_type": "code",
      "source": [
        "def magic_function(f):\n",
        "    Strike = 1.0\n",
        "    taugrid = np.arange(0.0, 1/12, 1/(12*L))\n",
        "    TrainSizePerNode = 312500\n",
        "    StartingValuesLocal = f[1].uniform(low = -0.5, high = 0.5, size = [TrainSizePerNode, 7])\n",
        "\n",
        "    IncrementsBM = f[1].normal(0, 1, size = [TrainSizePerNode, 1])\n",
        "    Y = np.zeros(TrainSizePerNode)\n",
        "\n",
        "    for sample in range(0, TrainSizePerNode, 1):\n",
        "\n",
        "        tmpvec = evalCurve(StartingValuesLocal[sample], IncrementsBM[sample], taugrid)\n",
        "        tmp = np.sum(tmpvec) * (12/365)\n",
        "        tmp = max(tmp - Strike, 0)\n",
        "        Y[sample] = tmp\n",
        "    return StartingValuesLocal, Y\n",
        "\n",
        "\n",
        "def process_frame(f):\n",
        "    return f[0], magic_function(f)"
      ],
      "metadata": {
        "id": "V7vDSgHfEp17"
      },
      "execution_count": 6,
      "outputs": []
    },
    {
      "cell_type": "code",
      "source": [
        "from tqdm import tqdm\n",
        "\n",
        "from multiprocess import Pool\n",
        "import time\n",
        "tic = time.perf_counter()\n",
        "#from magic_functions import process_frame\n",
        "\n",
        "frames_list = [[i,streams[i]] for i in range(0,len(streams),1)]\n",
        "\n",
        "max_pool = 32\n",
        "\n",
        "with Pool(max_pool) as p:\n",
        "    pool_outputs = list(\n",
        "        tqdm(\n",
        "            p.imap(process_frame,\n",
        "                   frames_list),\n",
        "            total=len(frames_list)\n",
        "        )\n",
        "    )\n",
        "\n",
        "print(pool_outputs)\n",
        "new_dict = dict(pool_outputs)\n",
        "toc = time.perf_counter()\n",
        "print(f\"Calc time: {toc - tic:0.4f} seconds\")"
      ],
      "metadata": {
        "colab": {
          "base_uri": "https://localhost:8080/"
        },
        "id": "dc7ksJe8FALC",
        "outputId": "9c268e58-8231-4e48-c249-ade8fa6af54f"
      },
      "execution_count": null,
      "outputs": [
        {
          "output_type": "stream",
          "name": "stderr",
          "text": [
            "\r  0%|          | 0/32 [00:00<?, ?it/s]"
          ]
        }
      ]
    }
  ]
}